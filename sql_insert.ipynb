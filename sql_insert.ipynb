{
 "cells": [
  {
   "cell_type": "code",
   "execution_count": 1,
   "id": "86a10d43",
   "metadata": {},
   "outputs": [],
   "source": [
    "#Generate INSERT statements for MySQL**\n",
    "import pandas as pd\n",
    "import mysql.connector"
   ]
  },
  {
   "cell_type": "code",
   "execution_count": 3,
   "id": "02f1bd9b",
   "metadata": {},
   "outputs": [
    {
     "name": "stdout",
     "output_type": "stream",
     "text": [
      "SQL insert statements saved to trade_data_inserts.sql\n"
     ]
    }
   ],
   "source": [
    "#Generate INSERT statements for MySQL**\n",
    "import pandas as pd\n",
    "import mysql.connector\n",
    "\n",
    "# Database configuration\n",
    "db_config = {\n",
    "    'host': 'localhost',\n",
    "    'user': 'root',\n",
    "    'password': 'Chelah@123',  \n",
    "    'database': 'trade_data'\n",
    "}\n",
    "\n",
    "# Connect to database to get foreign key mappings\n",
    "def get_foreign_key_mappings():\n",
    "    \"\"\"Get foreign key mappings from database\"\"\"\n",
    "    try:\n",
    "        connection = mysql.connector.connect(**db_config)\n",
    "        cursor = connection.cursor()\n",
    "        \n",
    "        mappings = {}\n",
    "        \n",
    "        # Get regions\n",
    "        cursor.execute(\"SELECT region_name, region_id FROM regions\")\n",
    "        mappings['regions'] = {name: id for name, id in cursor.fetchall()}\n",
    "        \n",
    "        # Get countries\n",
    "        cursor.execute(\"SELECT country_name, country_id FROM countries\")\n",
    "        mappings['countries'] = {name: id for name, id in cursor.fetchall()}\n",
    "        \n",
    "        # Get commodity categories\n",
    "        cursor.execute(\"SELECT category_name, category_id FROM commodity_categories\")\n",
    "        mappings['categories'] = {name: id for name, id in cursor.fetchall()}\n",
    "        \n",
    "        # Get commodity subcategories\n",
    "        cursor.execute(\"SELECT subcategory_name, subcategory_id FROM commodity_subcategories\")\n",
    "        mappings['subcategories'] = {name: id for name, id in cursor.fetchall()}\n",
    "        \n",
    "        # Get COVID periods\n",
    "        cursor.execute(\"SELECT period_name, period_id FROM covid_periods\")\n",
    "        mappings['covid_periods'] = {name: id for name, id in cursor.fetchall()}\n",
    "        \n",
    "        # Get economic events\n",
    "        cursor.execute(\"SELECT event_name, event_id FROM economic_events\")\n",
    "        mappings['economic_events'] = {name: id for name, id in cursor.fetchall()}\n",
    "        \n",
    "        # Get trade partners\n",
    "        cursor.execute(\"SELECT country_id, partner_id FROM trade_partners\")\n",
    "        mappings['trade_partners'] = {country_id: partner_id for country_id, partner_id in cursor.fetchall()}\n",
    "        \n",
    "        cursor.close()\n",
    "        connection.close()\n",
    "        return mappings\n",
    "        \n",
    "    except mysql.connector.Error as err:\n",
    "        print(f\"Database connection failed: {err}\")\n",
    "        return None\n",
    "\n",
    "#Load dataset**\n",
    "df = pd.read_csv(\"data1.csv\")\n",
    "\n",
    "# Get foreign key mappings from database\n",
    "mappings = get_foreign_key_mappings()\n",
    "\n",
    "trade_records_inserts = []\n",
    "\n",
    "for index, row in df.iterrows():\n",
    "    # Get foreign key IDs\n",
    "    country_id = mappings['countries'].get(row['Partner_Country'])\n",
    "    partner_id = mappings['trade_partners'].get(country_id)\n",
    "    category_id = mappings['categories'].get(row['Commodity_Category'])\n",
    "    subcategory_id = mappings['subcategories'].get(row['Commodity_Subcategory'])\n",
    "    covid_period_id = mappings['covid_periods'].get(row['COVID_Period'])\n",
    "    economic_event_id = mappings['economic_events'].get(row['Economic_Event'])\n",
    "    \n",
    "    # Trade Records table insert\n",
    "    trade_records_inserts.append(f\"\"\"INSERT INTO trade_records (year, month, quarter, trade_type, partner_id, category_id, subcategory_id, value_usd_million, value_kes_billion, volume_metric_tons, growth_rate_yoy, covid_period_id, economic_event_id) VALUES ({int(row['Year'])}, '{row['Month']}', '{row['Quarter']}', '{row['Trade_Type']}', {partner_id}, {category_id}, {subcategory_id}, {row['Value_USD_Million']}, {row['Value_KES_Billion']}, {row['Volume_Metric_Tons']}, {row['Growth_Rate_YoY']}, {covid_period_id}, {economic_event_id});\"\"\")\n",
    "\n",
    "#Save to .sql file**\n",
    "output_file = \"trade_data_inserts.sql\"\n",
    "with open(output_file, \"w\") as f:\n",
    "    f.write(\"-- Inserts for trade_records\\n\")\n",
    "    f.write(\"\\n\".join(trade_records_inserts))\n",
    "\n",
    "print(f\"SQL insert statements saved to {output_file}\")"
   ]
  },
  {
   "cell_type": "code",
   "execution_count": null,
   "id": "d80df5e6",
   "metadata": {},
   "outputs": [],
   "source": []
  }
 ],
 "metadata": {
  "kernelspec": {
   "display_name": "env",
   "language": "python",
   "name": "python3"
  },
  "language_info": {
   "codemirror_mode": {
    "name": "ipython",
    "version": 3
   },
   "file_extension": ".py",
   "mimetype": "text/x-python",
   "name": "python",
   "nbconvert_exporter": "python",
   "pygments_lexer": "ipython3",
   "version": "3.13.6"
  }
 },
 "nbformat": 4,
 "nbformat_minor": 5
}
